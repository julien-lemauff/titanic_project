{
 "cells": [
  {
   "cell_type": "code",
   "execution_count": 174,
   "metadata": {},
   "outputs": [],
   "source": [
    "import pandas as pd\n",
    "from pandas import DataFrame\n",
    "import numpy as np\n",
    "import mlxtend as mlx\n",
    "from mlxtend.preprocessing import TransactionEncoder\n",
    "from mlxtend.frequent_patterns import apriori\n",
    "from mlxtend.frequent_patterns import association_rules\n",
    "from mlxtend.frequent_patterns import fpgrowth\n",
    "import matplotlib.pyplot as plt\n",
    "from prefixspan import PrefixSpan\n",
    "import seaborn as sns"
   ]
  },
  {
   "cell_type": "markdown",
   "metadata": {},
   "source": [
    "### Importation des données"
   ]
  },
  {
   "cell_type": "code",
   "execution_count": 217,
   "metadata": {},
   "outputs": [],
   "source": [
    "test = pd.read_csv(\"/Users/lemauffjulien/Documents/Titanic_project-master/titanic_data/raw_data/test.csv\")\n",
    "train = pd.read_csv(\"/Users/lemauffjulien/Documents/Titanic_project-master/titanic_data/raw_data/train.csv\")"
   ]
  },
  {
   "cell_type": "markdown",
   "metadata": {},
   "source": [
    "### Nettoyage et adaptation de la base de donnée"
   ]
  },
  {
   "cell_type": "code",
   "execution_count": 218,
   "metadata": {},
   "outputs": [
    {
     "data": {
      "image/png": "[encoded data removed]",
      "text/plain": [
       "<Figure size 432x288 with 1 Axes>"
      ]
     },
     "metadata": {
      "needs_background": "light"
     },
     "output_type": "display_data"
    }
   ],
   "source": [
    "##### //-- CREATE DUMMY TO SEPARATE DATA LATER ON \\\\-- #####\n",
    "\n",
    "# if Train_set = 1 the observation was in the train originally\n",
    "train[\"Train_set\"] = 1\n",
    "test[\"Train_set\"] = 0\n",
    "\n",
    "# merge train and test\n",
    "titanic = train.append(test, ignore_index=True, sort=False)\n",
    "\n",
    "##### //-- CREATES DUMMY FOR SEX AND PCLASS VARIABLES \\\\-- #####\n",
    "\n",
    "titanic = pd.concat([titanic, pd.get_dummies(titanic[\"Sex\"])], axis=1)\n",
    "titanic = pd.concat([titanic, pd.get_dummies(titanic[\"Pclass\"])], axis=1)\n",
    "titanic.rename(columns={1:'Pclass_1', 2:'Pclass_2', 3:'Pclass_3'}, inplace=True)\n",
    "\n",
    "##### //-- EXTRACT TITLES FROM NAME VARIABLES \\\\-- #####\n",
    "\n",
    "comma_split = titanic.Name.str.split(\", \", n=1, expand=True)\n",
    "point_split = comma_split.iloc[:, 1].str.split('.', n=1, expand=True)\n",
    "\n",
    "titanic[\"Title\"] = point_split.iloc[:, 0]\n",
    "# We now have the title of each passenger separated from the variable Name\n",
    "# There is in total 18 different title, I will narrow them down to make a generalized title class\n",
    "\n",
    "def generalized_title(x):\n",
    "    if x in [\"Mr\", 'Mrs', \"Miss\", \"Master\", \"Dr\"]:\n",
    "        return(x)\n",
    "    elif x in [\"Don\", \"Lady\", \"Sir\", \"the Countess\", \"Dona\", \"Jonkheer\"]:\n",
    "        return(\"Nobility\")\n",
    "    elif x in [\"Rev\", \"Major\", \"Col\", \"Capt\"]:\n",
    "        return(\"Officer\")\n",
    "    elif x == \"Mme\":\n",
    "        return(\"Mrs\")\n",
    "    elif x in [\"Ms\", \"Mlle\"]:\n",
    "        return(\"Miss\")\n",
    "    else:\n",
    "        return(\"ERROR\")\n",
    "\n",
    "titanic[\"Title\"] = titanic.Title.apply(lambda x: generalized_title(x))\n",
    "# We now have narrowed down the 18 different title into only 7 generalized Title\n",
    "\n",
    "# As we need the data in categorical form we will create dummy variables from Title\n",
    "titanic = pd.concat([titanic, pd.get_dummies(titanic[\"Title\"])], axis=1)\n",
    "\n",
    "##### //-- CREATES FAMSIZE \\\\-- #####\n",
    "\n",
    "# We create the variable Famsize as family size, the size of each family on board\n",
    "titanic[\"Famsize\"] = titanic['SibSp'] + titanic['Parch'] + 1\n",
    "# It is important to add +1 because we have to count the person itself as member of the family\n",
    "\n",
    "titanic.Famsize.value_counts()\n",
    "titanic.Famsize.hist()\n",
    "# Given the distribution of the variable we can create categorical variables based on group of family size\n",
    "\n",
    "# I will therefore replace Famsize by it's categorical variable as :\n",
    "# Famsize = solo if the person has no family on board and is travelling alone\n",
    "# Famsize = small_family if the person has 2 or 3 members of his family on board (parents/children/siblings/spouses)\n",
    "# Famsize = big_family if the person has strictly more than 4 members on his family on board\n",
    "\n",
    "def Famsize_categorical(x):\n",
    "    if x == 1:\n",
    "        return(\"solo\")\n",
    "    if x in [2,3]:\n",
    "        return (\"small_family\")\n",
    "    elif x > 3:\n",
    "        return(\"big_family\")\n",
    "    else:\n",
    "        return(\"ERROR\")\n",
    "\n",
    "titanic[\"Famsize\"] = titanic.Famsize.apply(lambda x: Famsize_categorical(x))\n",
    "\n",
    "# As we need the data in categorical form we will create dummy variables from Famsize\n",
    "titanic = pd.concat([titanic, pd.get_dummies(titanic[\"Famsize\"])], axis=1)\n",
    "\n",
    "##### //-- get Deck variable from Cabin \\\\-- #####\n",
    "\n",
    "def get_deck(x):\n",
    "    if pd.isnull(x) == True:\n",
    "        return(\"Unknown\")\n",
    "    else:\n",
    "        deck = re.sub('[^a-zA-Z]+', '', x)\n",
    "        Deck = \"\".join(sorted(set(deck), key=deck.index))\n",
    "        return(Deck.upper())\n",
    "# This function check if the value is null, if it's true then the function return the null value\n",
    "# If it's false then the function extract only unique characters from strings and return the upper case value\n",
    "\n",
    "titanic[\"Deck\"] = titanic[\"Cabin\"].apply(lambda x: get_deck(x))\n",
    "\n",
    "##### //-- Dropping variables \\\\-- #####\n",
    "\n",
    "# As there is too many missing value for Cabin, 1014 missing values over 1309 it's not wise to keep the\n",
    "# variable as it can create noises in the prediction. Therefore I have decided to remove the variable from the dataset\n",
    "# There doesn't seem to have any valuable information in the variable Ticket so I will drop the variable off as well\n",
    "titanic = titanic.drop(columns=[\"Cabin\", 'Ticket'])"
   ]
  },
  {
   "cell_type": "markdown",
   "metadata": {},
   "source": [
    "### Traitement des données manquantes "
   ]
  },
  {
   "cell_type": "code",
   "execution_count": 219,
   "metadata": {},
   "outputs": [],
   "source": [
    "titanic.isnull().sum()\n",
    "# It seems that there is mostly missing values for the variables Embarked, Age and Fare\n",
    "\n",
    "# //-- Let's try now to fill the missing values for each variables \\\\-- #\n",
    "\n",
    "## Fill NaN in Embarked variable ##\n",
    "\n",
    "titanic.Embarked.value_counts()\n",
    "\n",
    "# The big majority of embarkation were from Southampton (S)\n",
    "# Since there is only 2 missing values we can either decide to remove them or replace them by the most\n",
    "# common embarkation port which is Southampton. I personally prefer the latter solution.\n",
    "\n",
    "# let's replace the missing embarkation port by Southampton (S)\n",
    "titanic.Embarked.fillna(\"S\", inplace=True)\n",
    "\n",
    "# Now that there is no more missing value we can create dummy variables for Embarked\n",
    "titanic = pd.concat([titanic, pd.get_dummies(titanic[\"Embarked\"])], axis=1)\n",
    "\n",
    "## Fill NaN in Fare variable ##\n",
    "\n",
    "titanic.Fare.fillna(titanic.Fare.median(), inplace=True)\n",
    "# As there is only 1 missing value for Fare we can replace the missing value by it's median"
   ]
  },
  {
   "cell_type": "markdown",
   "metadata": {},
   "source": [
    "### Traitement de la variable Age"
   ]
  },
  {
   "cell_type": "code",
   "execution_count": 220,
   "metadata": {},
   "outputs": [],
   "source": [
    "# ==================== Fill NaN in Age variable  ==================== #\n",
    "\n",
    "# Let's have a first statistical analysis\n",
    "titanic.Age.describe()\n",
    "# The mean and the median are close to each other with 29.9 and 28 respectively\n",
    "\n",
    "# First solution: Replacing missing Age value by the median depending on the title\n",
    "# Second solution: predicting missing Age with a random Forest\n",
    "# Third solution; predicting missing Age with a SVM\n",
    "\n",
    "titanic[\"Age_Randomforest\"] = titanic.Age.copy() #Missing Age predicted by random forest\n",
    "titanic[\"Age_SVM\"] = titanic.Age.copy() #Missing Age predicted by SVM\n",
    "titanic[\"Age_replace\"] = titanic.Age.copy() #Missing Age replaced by median depending on title\n",
    "\n",
    "# We will keep a variable Age for each solution and see later which one is better\n",
    "\n",
    "# //-- Replacing Age depending on title \\\\-- #\n",
    "\n",
    "Age_by_title = pd.DataFrame({'mean_age': titanic.groupby('Title').mean().loc[:, \"Age\"],\n",
    "                             'median_age': titanic.groupby('Title').median().loc[:, \"Age\"],\n",
    "                             'count': titanic.Title.value_counts(),\n",
    "                             'age_missing': titanic.Age.isnull().groupby(titanic['Title']).sum()})\n",
    "# We now have the mean and the median age for each title as well as the number of missing age for each title\n",
    "\n",
    "# We will now replace the missing age by the median age depending on the title\n",
    "for index, i in enumerate(titanic[\"Age_replace\"]):\n",
    "    if pd.isnull(i) == False:\n",
    "        titanic.loc[index, \"Age_replace\"] = i\n",
    "    else:\n",
    "        i_title = titanic.loc[index, \"Title\"]\n",
    "        titanic.loc[index, 'Age_replace'] = Age_by_title.loc[i_title, \"median_age\"]"
   ]
  },
  {
   "cell_type": "markdown",
   "metadata": {},
   "source": [
    "### Random forest for Age"
   ]
  },
  {
   "cell_type": "code",
   "execution_count": 221,
   "metadata": {},
   "outputs": [
    {
     "name": "stdout",
     "output_type": "stream",
     "text": [
      "The MEAN CV score is 0.36\n",
      "The standard deviation is 0.1\n"
     ]
    },
    {
     "name": "stderr",
     "output_type": "stream",
     "text": [
      "/Users/lemauffjulien/anaconda3/lib/python3.7/site-packages/sklearn/ensemble/forest.py:245: FutureWarning: The default value of n_estimators will change from 10 in version 0.20 to 100 in 0.22.\n",
      "  \"10 in version 0.20 to 100 in 0.22.\", FutureWarning)\n",
      "/Users/lemauffjulien/anaconda3/lib/python3.7/site-packages/pandas/core/indexing.py:543: SettingWithCopyWarning: \n",
      "A value is trying to be set on a copy of a slice from a DataFrame.\n",
      "Try using .loc[row_indexer,col_indexer] = value instead\n",
      "\n",
      "See the caveats in the documentation: http://pandas.pydata.org/pandas-docs/stable/indexing.html#indexing-view-versus-copy\n",
      "  self.obj[item] = s\n"
     ]
    }
   ],
   "source": [
    "# we will now split the dataset into 2 datasets, the one with no empty age will be used as training data for the model\n",
    "titanic_WithAge = titanic[pd.isnull(titanic['Age_Randomforest']) == False]\n",
    "titanic_WithoutAge = titanic[pd.isnull(titanic['Age_Randomforest'])]\n",
    "\n",
    "# We will use theses variables as independent variables to predict the Age\n",
    "independent_variables = ['Pclass_1', 'Pclass_2', 'Pclass_3', 'female', 'male', 'C', 'Q', 'S',\n",
    "                         'Dr', 'Master', 'Miss', 'Mr', 'Mrs', 'Nobility', 'Officer',\n",
    "                         'big_family', 'small_family', 'solo', 'Parch', \"SibSp\", 'Fare']\n",
    "\n",
    "rfModel_Age = RandomForestRegressor()\n",
    "\n",
    "age_accuracies = cross_val_score(estimator=rfModel_Age,\n",
    "                                 X=titanic_WithAge.loc[:, independent_variables],\n",
    "                                 y=titanic_WithAge.loc[:, 'Age_Randomforest'],\n",
    "                                 cv=10,\n",
    "                                 n_jobs=2)\n",
    "\n",
    "print(\"The MEAN CV score is\", round(age_accuracies.mean(), ndigits=2))\n",
    "print(\"The standard deviation is\", round(age_accuracies.std(), ndigits=2))\n",
    "\n",
    "# The MEAN CV score is 0.36\n",
    "# The standard deviation is 0.08\n",
    "\n",
    "# Fit the tunned model in the dataset\n",
    "\n",
    "rfModel_Age.fit(titanic_WithAge.loc[:, independent_variables], titanic_WithAge.loc[:, 'Age_Randomforest'])\n",
    "\n",
    "titanic_WithoutAge.loc[:, 'Age_Randomforest'] = rfModel_Age.predict(X = titanic_WithoutAge.loc[:, independent_variables]).astype(int)\n",
    "\n",
    "titanic = titanic_WithAge.append(titanic_WithoutAge).sort_values(by=['PassengerId']).reset_index(drop=True)"
   ]
  },
  {
   "cell_type": "markdown",
   "metadata": {},
   "source": [
    "### SVM for Age"
   ]
  },
  {
   "cell_type": "code",
   "execution_count": 222,
   "metadata": {},
   "outputs": [
    {
     "name": "stderr",
     "output_type": "stream",
     "text": [
      "/Users/lemauffjulien/anaconda3/lib/python3.7/site-packages/numpy/lib/histograms.py:824: RuntimeWarning: invalid value encountered in greater_equal\n",
      "  keep = (tmp_a >= first_edge)\n",
      "/Users/lemauffjulien/anaconda3/lib/python3.7/site-packages/numpy/lib/histograms.py:825: RuntimeWarning: invalid value encountered in less_equal\n",
      "  keep &= (tmp_a <= last_edge)\n"
     ]
    },
    {
     "name": "stdout",
     "output_type": "stream",
     "text": [
      "The MEAN CV score is 0.39\n",
      "The standard deviation is 0.06\n"
     ]
    },
    {
     "name": "stderr",
     "output_type": "stream",
     "text": [
      "/Users/lemauffjulien/anaconda3/lib/python3.7/site-packages/pandas/core/indexing.py:543: SettingWithCopyWarning: \n",
      "A value is trying to be set on a copy of a slice from a DataFrame.\n",
      "Try using .loc[row_indexer,col_indexer] = value instead\n",
      "\n",
      "See the caveats in the documentation: http://pandas.pydata.org/pandas-docs/stable/indexing.html#indexing-view-versus-copy\n",
      "  self.obj[item] = s\n"
     ]
    },
    {
     "data": {
      "image/png": "[encoded data removed]",
      "text/plain": [
       "<Figure size 432x288 with 1 Axes>"
      ]
     },
     "metadata": {
      "needs_background": "light"
     },
     "output_type": "display_data"
    }
   ],
   "source": [
    "plt.hist(titanic.Age)\n",
    "plt.hist(titanic.Age, range=(0, 30))\n",
    "plt.hist(titanic.Age, range=(30, 80))\n",
    "plt.xlabel('Age')\n",
    "plt.ylabel('Frequency')\n",
    "plt.title('Age Repartition')\n",
    "\n",
    "# the distribution of the age looks almost like a normal distribution\n",
    "\n",
    "titanic_WithAge_SVM = titanic[pd.isnull(titanic['Age']) == False]\n",
    "titanic_WithoutAge_SVM = titanic[pd.isnull(titanic['Age'])]\n",
    "\n",
    "SVM_reg = SVR(kernel=\"linear\")\n",
    "\n",
    "age_accuracies_SVM = cross_val_score(estimator=SVM_reg,\n",
    "                                 X=titanic_WithAge_SVM.loc[:, independent_variables],\n",
    "                                 y=titanic_WithAge_SVM.loc[:, 'Age_SVM'],\n",
    "                                 cv=10,\n",
    "                                 n_jobs=2)\n",
    "\n",
    "print(\"The MEAN CV score is\", round(age_accuracies_SVM.mean(), ndigits=2))\n",
    "print(\"The standard deviation is\", round(age_accuracies_SVM.std(), ndigits=2))\n",
    "\n",
    "SVM_reg.fit(titanic_WithAge_SVM.loc[:, independent_variables], titanic_WithAge_SVM.loc[:, 'Age_SVM'])\n",
    "\n",
    "titanic_WithoutAge_SVM.loc[:, 'Age_SVM'] = SVM_reg.predict(X = titanic_WithoutAge_SVM.loc[:, independent_variables]).astype(int)\n",
    "\n",
    "titanic = titanic_WithAge_SVM.append(titanic_WithoutAge_SVM).sort_values(by=['PassengerId']).reset_index(drop=True)"
   ]
  },
  {
   "cell_type": "markdown",
   "metadata": {},
   "source": [
    "### Groupe d'âge en utilisant Age_median"
   ]
  },
  {
   "cell_type": "code",
   "execution_count": 223,
   "metadata": {},
   "outputs": [],
   "source": [
    "# Given the shape of the distribution we can separate the Age by group such as\n",
    "# Age_group = 0_16 if the age is between 0 and 16 included\n",
    "# Age_group = 17_24 if the age is between 17 and 24 included\n",
    "# Age_group = 25_30 if the age is between 25 and 30 included\n",
    "# Age_group = 31_40 if the age is between 31 and 40 included\n",
    "# Age_group = over_40 if the age is strictly higher than 40\n",
    "\n",
    "def Age_categorical(x):\n",
    "    if x <= 16:\n",
    "        return(\"0_16\")\n",
    "    elif x <= 30:\n",
    "        return(\"17_30\")\n",
    "    elif x <= 40:\n",
    "        return(\"31_40\")\n",
    "    else:\n",
    "        return(\"over_40\")\n",
    "\n",
    "titanic[\"Age_group\"] = titanic.Age_replace.apply(lambda x: Age_categorical(x))"
   ]
  },
  {
   "cell_type": "markdown",
   "metadata": {},
   "source": [
    "### Séparation de la base de donnée pour retrouver les datasets train/test "
   ]
  },
  {
   "cell_type": "code",
   "execution_count": 224,
   "metadata": {},
   "outputs": [],
   "source": [
    "# I separate the titanic dataframe to their original train/test set\n",
    "Clean_train = titanic.loc[titanic.Train_set == 1, :].reset_index(drop=True).drop(\"Train_set\", axis=1)\n",
    "Clean_test = titanic.loc[titanic.Train_set == 0, :].reset_index(drop=True).drop([\"Train_set\"], axis=1)"
   ]
  },
  {
   "cell_type": "markdown",
   "metadata": {},
   "source": [
    "### Analyse statistique et descriptive"
   ]
  },
  {
   "cell_type": "code",
   "execution_count": 225,
   "metadata": {},
   "outputs": [],
   "source": [
    "# ==================== DATA PROCESSING ==================== #\n",
    "\n",
    "train = Clean_train\n",
    "\n",
    "# //-- Pclass \\\\-- #\n",
    "\n",
    "def Pclass_process(x):\n",
    "    if x == 1:\n",
    "        return('First_class')\n",
    "    elif x == 2:\n",
    "        return('Second_class')\n",
    "    elif x == 3:\n",
    "        return('Third_class')\n",
    "    else:\n",
    "        return(\"ERROR\")\n",
    "\n",
    "train.loc[:, \"Pclass\"] = train.Pclass.apply(lambda x: Pclass_process(x))\n",
    "\n",
    "# //-- Survived \\\\-- #\n",
    "\n",
    "def Survived_process(x):\n",
    "    if x == 1.0:\n",
    "        return(\"Survived\")\n",
    "    else:\n",
    "        return(\"Died\")\n",
    "\n",
    "train.loc[:, \"Survived\"] = train.Survived.apply(lambda x: Survived_process(x))\n",
    "\n",
    "# //-- Famsize \\\\-- #\n",
    "\n",
    "def Famsize_process(x):\n",
    "    if x == \"small_family\":\n",
    "        return(\"small\")\n",
    "    elif x == \"big_family\":\n",
    "        return(\"big\")\n",
    "    else:\n",
    "        return(x)\n",
    "\n",
    "train.loc[:, \"Famsize\"] = train.Famsize.apply(lambda x: Famsize_process(x))\n",
    "\n",
    "# ==================== Statistical analysis ==================== #\n",
    "\n",
    "# //-- Survival vs Pclass \\\\-- #\n",
    "\n",
    "pd.crosstab(train['Pclass'],train['Survived']).plot.bar()\n",
    "plt.xlabel('Class')\n",
    "plt.ylabel('Frequency')\n",
    "plt.title('Cross analysis between Survived an Pclass')\n",
    "plt.legend([\"Has died\", \"Has survived\"])\n",
    "\n",
    "# //-- Survival vs Sex \\\\-- #\n",
    "\n",
    "pd.crosstab(train['Sex'],train['Survived']).plot.bar()\n",
    "plt.xlabel('Sex')\n",
    "plt.ylabel('Frequency')\n",
    "plt.title('Cross analysis between Survived an Sex')\n",
    "plt.legend([\"Has died\", \"Has survived\"])\n",
    "\n",
    "# //-- Pclass vs Sex \\\\-- #\n",
    "\n",
    "pd.crosstab(train['Pclass'],train['Sex']).plot.bar()\n",
    "plt.xlabel('Class')\n",
    "plt.ylabel('Frequency')\n",
    "plt.title('Cross analysis between Pclass an Sex')\n",
    "\n",
    "# //-- Title vs Survived \\\\-- #\n",
    "\n",
    "pd.crosstab(train['Title'],train['Survived']).plot.bar()\n",
    "plt.xlabel('Title')\n",
    "plt.ylabel('Frequency')\n",
    "plt.title('Cross analysis between Title an Sex')\n",
    "plt.legend([\"Has died\", \"Has survived\"])\n",
    "\n",
    "# # //-- Age vs Has Survived \\\\-- #\n",
    "#\n",
    "# pd.crosstab(train['Age_replace'], train.loc[train.Survived==\"Survived\", 'Survived']).plot.bar(color=\"green\")\n",
    "# plt.xlabel('Age')\n",
    "# plt.ylabel('Frequency')\n",
    "#\n",
    "# # //-- Age vs Has Died \\\\-- #\n",
    "#\n",
    "# pd.crosstab(train['Age_replace'], train.loc[train.Survived==\"Died\", 'Survived']).plot.bar(color='red')\n",
    "# plt.xlabel('Age')\n",
    "# plt.ylabel('Frequency')\n",
    "\n",
    "# //-- Famsize vs Survived \\\\-- #\n",
    "\n",
    "pd.crosstab(train['Famsize'],train['Survived']).plot.bar()\n",
    "plt.xlabel('Family size')\n",
    "plt.ylabel('Frequency')\n",
    "plt.title('Cross analysis between Family size an Survived')\n",
    "plt.legend([\"Has died\", \"Has survived\"])\n",
    "\n",
    "\n",
    "# //-- Boxplot Age by Survival \\\\-- #\n",
    "\n",
    "sns.boxplot(x='Survived', y='Age_Randomforest', data=train)\n",
    "ax = sns.stripplot(x='Survived', y='Age_Randomforest', data=train, color=\"black\", jitter=0.2, size=2.5)\n",
    "plt.title(\"Age Boxplot by Survival\", loc=\"left\")\n",
    "plt.ylabel('Age')\n",
    "\n",
    "sns.boxplot(x='Sex', y='Age_Randomforest', data=train)\n",
    "ax = sns.stripplot(x='Sex', y='Age_Randomforest', data=train, color=\"black\", jitter=0.2, size=2.5)\n",
    "plt.title(\"Age Boxplot by Sex\", loc=\"left\")\n",
    "plt.ylabel('Age')\n",
    "\n",
    "# # //-- Boxplot Fare by Survival \\\\-- #\n",
    "#\n",
    "# sns.boxplot(x='Survived', y='Fare', data=train)\n",
    "# ax = sns.stripplot(x='Survived', y='Fare', data=train, color=\"green\", jitter=0.2, size=2.5)\n",
    "# plt.title(\"Fare Boxplot by Survival\", loc=\"left\")\n",
    "#\n",
    "# # //-- Boxplot Fare by Pclass \\\\-- #\n",
    "#\n",
    "# sns.boxplot(x='Pclass', y='Fare', data=train)\n",
    "# ax = sns.stripplot(x='Pclass', y='Fare', data=train, color=\"purple\", jitter=0.2, size=2.5)\n",
    "# plt.title(\"Fare Boxplot by Pclass\", loc=\"left\")\n",
    "\n",
    "# //-- Boxplot Fare by Title \\\\-- #\n",
    "\n",
    "sns.boxplot(x='Title', y='Age_Randomforest', data=train)\n",
    "ax = sns.stripplot(x='Title', y='Age_Randomforest', data=train, color=\"red\", jitter=0.2, size=2.5)\n",
    "plt.title(\"Age Boxplot by Title\", loc=\"left\")\n",
    "plt.ylabel('Age')\n",
    "\n",
    "# //-- Stat descriptive \\\\-- #\n",
    "\n",
    "column = [\"Survived\", \"Pclass\", \"Sex\", \"Embarked\", \"Famsize\", \"Deck\", \"SibSp\", \"Parch\"]\n",
    "\n",
    "value_count = {}\n",
    "for col in train.loc[:, column]:\n",
    "    value_count.update({col: train.loc[:, col].value_counts()})\n",
    "\n",
    "print(value_count)"
   ]
  }
 ],
 "metadata": {
  "kernelspec": {
   "display_name": "Python 3",
   "language": "python",
   "name": "python3"
  },
  "language_info": {
   "codemirror_mode": {
    "name": "ipython",
    "version": 3
   },
   "file_extension": ".py",
   "mimetype": "text/x-python",
   "name": "python",
   "nbconvert_exporter": "python",
   "pygments_lexer": "ipython3",
   "version": "3.7.3"
  }
 },
 "nbformat": 4,
 "nbformat_minor": 2
}
